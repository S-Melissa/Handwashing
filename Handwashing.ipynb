{
 "cells": [
  {
   "cell_type": "markdown",
   "id": "391a8c84-cc09-4543-9ae3-82dd0adee4d0",
   "metadata": {
    "tags": []
   },
   "source": [
    "# Guided project : Short analyze on the importance of Handwashing discovery"
   ]
  },
  {
   "cell_type": "markdown",
   "id": "117d68fb-c5f1-49fa-b01b-338f8cd2b0b5",
   "metadata": {},
   "source": [
    "**Dataset : https://github.com/islamtaha/DataCamp/blob/master/Dr.%20Semmelweis%20and%20the%20discovery%20of%20handwashing/datasets/yearly_deaths_by_clinic.csv**"
   ]
  },
  {
   "cell_type": "code",
   "execution_count": 54,
   "id": "d1bebeba-ffb9-4a97-9e00-2fe8b9e14152",
   "metadata": {
    "tags": []
   },
   "outputs": [],
   "source": [
    "import pandas as pd\n",
    "import matplotlib as plt\n",
    "from scipy import stats"
   ]
  },
  {
   "cell_type": "markdown",
   "id": "14023c93-38fd-4961-8481-7508f6b0e3a6",
   "metadata": {},
   "source": [
    "##  Yearly insight\n",
    "**yearly_deaths_by_clinic.csv contains the number of women giving birth and dying as the result of child birth, in the two clinics at the Vienna General Hospital for the years 1841 to 1846**"
   ]
  },
  {
   "cell_type": "code",
   "execution_count": 3,
   "id": "075921e3-00c7-452f-8195-f3e561109f42",
   "metadata": {
    "tags": []
   },
   "outputs": [
    {
     "data": {
      "text/html": [
       "<div>\n",
       "<style scoped>\n",
       "    .dataframe tbody tr th:only-of-type {\n",
       "        vertical-align: middle;\n",
       "    }\n",
       "\n",
       "    .dataframe tbody tr th {\n",
       "        vertical-align: top;\n",
       "    }\n",
       "\n",
       "    .dataframe thead th {\n",
       "        text-align: right;\n",
       "    }\n",
       "</style>\n",
       "<table border=\"1\" class=\"dataframe\">\n",
       "  <thead>\n",
       "    <tr style=\"text-align: right;\">\n",
       "      <th></th>\n",
       "      <th>year</th>\n",
       "      <th>births</th>\n",
       "      <th>deaths</th>\n",
       "      <th>clinic</th>\n",
       "    </tr>\n",
       "  </thead>\n",
       "  <tbody>\n",
       "    <tr>\n",
       "      <th>0</th>\n",
       "      <td>1841</td>\n",
       "      <td>3036</td>\n",
       "      <td>237</td>\n",
       "      <td>clinic 1</td>\n",
       "    </tr>\n",
       "    <tr>\n",
       "      <th>1</th>\n",
       "      <td>1842</td>\n",
       "      <td>3287</td>\n",
       "      <td>518</td>\n",
       "      <td>clinic 1</td>\n",
       "    </tr>\n",
       "    <tr>\n",
       "      <th>2</th>\n",
       "      <td>1843</td>\n",
       "      <td>3060</td>\n",
       "      <td>274</td>\n",
       "      <td>clinic 1</td>\n",
       "    </tr>\n",
       "    <tr>\n",
       "      <th>3</th>\n",
       "      <td>1844</td>\n",
       "      <td>3157</td>\n",
       "      <td>260</td>\n",
       "      <td>clinic 1</td>\n",
       "    </tr>\n",
       "    <tr>\n",
       "      <th>4</th>\n",
       "      <td>1845</td>\n",
       "      <td>3492</td>\n",
       "      <td>241</td>\n",
       "      <td>clinic 1</td>\n",
       "    </tr>\n",
       "    <tr>\n",
       "      <th>5</th>\n",
       "      <td>1846</td>\n",
       "      <td>4010</td>\n",
       "      <td>459</td>\n",
       "      <td>clinic 1</td>\n",
       "    </tr>\n",
       "    <tr>\n",
       "      <th>6</th>\n",
       "      <td>1841</td>\n",
       "      <td>2442</td>\n",
       "      <td>86</td>\n",
       "      <td>clinic 2</td>\n",
       "    </tr>\n",
       "    <tr>\n",
       "      <th>7</th>\n",
       "      <td>1842</td>\n",
       "      <td>2659</td>\n",
       "      <td>202</td>\n",
       "      <td>clinic 2</td>\n",
       "    </tr>\n",
       "    <tr>\n",
       "      <th>8</th>\n",
       "      <td>1843</td>\n",
       "      <td>2739</td>\n",
       "      <td>164</td>\n",
       "      <td>clinic 2</td>\n",
       "    </tr>\n",
       "    <tr>\n",
       "      <th>9</th>\n",
       "      <td>1844</td>\n",
       "      <td>2956</td>\n",
       "      <td>68</td>\n",
       "      <td>clinic 2</td>\n",
       "    </tr>\n",
       "    <tr>\n",
       "      <th>10</th>\n",
       "      <td>1845</td>\n",
       "      <td>3241</td>\n",
       "      <td>66</td>\n",
       "      <td>clinic 2</td>\n",
       "    </tr>\n",
       "    <tr>\n",
       "      <th>11</th>\n",
       "      <td>1846</td>\n",
       "      <td>3754</td>\n",
       "      <td>105</td>\n",
       "      <td>clinic 2</td>\n",
       "    </tr>\n",
       "  </tbody>\n",
       "</table>\n",
       "</div>"
      ],
      "text/plain": [
       "    year  births  deaths    clinic\n",
       "0   1841    3036     237  clinic 1\n",
       "1   1842    3287     518  clinic 1\n",
       "2   1843    3060     274  clinic 1\n",
       "3   1844    3157     260  clinic 1\n",
       "4   1845    3492     241  clinic 1\n",
       "5   1846    4010     459  clinic 1\n",
       "6   1841    2442      86  clinic 2\n",
       "7   1842    2659     202  clinic 2\n",
       "8   1843    2739     164  clinic 2\n",
       "9   1844    2956      68  clinic 2\n",
       "10  1845    3241      66  clinic 2\n",
       "11  1846    3754     105  clinic 2"
      ]
     },
     "execution_count": 3,
     "metadata": {},
     "output_type": "execute_result"
    }
   ],
   "source": [
    "yearly_df = pd.read_csv('RawData/yearly_deaths_by_clinic.csv')\n",
    "yearly_df"
   ]
  },
  {
   "cell_type": "markdown",
   "id": "2ec4ea18-af0e-4ef2-b8ff-426d281db14c",
   "metadata": {},
   "source": [
    "**Adding a column for the proportion of deaths per number of births :** "
   ]
  },
  {
   "cell_type": "code",
   "execution_count": 4,
   "id": "27a23410-b28c-4de4-a819-4792cdf6c336",
   "metadata": {
    "tags": []
   },
   "outputs": [
    {
     "name": "stdout",
     "output_type": "stream",
     "text": [
      "Depending of the years, deaths represented between 2.04 % and 15.76 % of the births\n"
     ]
    }
   ],
   "source": [
    "yearly_df['death_ratio'] = (yearly_df['deaths']/yearly_df['births'])*100\n",
    "print('Depending of the years, deaths represented between',\n",
    "      yearly_df['death_ratio'].min().round(decimals = 2),\n",
    "      '% and',\n",
    "      yearly_df['death_ratio'].max().round(decimals = 2),\n",
    "      '% of the births')"
   ]
  },
  {
   "cell_type": "markdown",
   "id": "ad0cde2b-3348-47db-b37c-c629241b505a",
   "metadata": {},
   "source": [
    "**Observing rows from clinic 1 and 2 independently :**"
   ]
  },
  {
   "cell_type": "code",
   "execution_count": 5,
   "id": "d9c6594b-4d4d-4075-940b-1705735dec93",
   "metadata": {
    "tags": []
   },
   "outputs": [
    {
     "data": {
      "text/html": [
       "<div>\n",
       "<style scoped>\n",
       "    .dataframe tbody tr th:only-of-type {\n",
       "        vertical-align: middle;\n",
       "    }\n",
       "\n",
       "    .dataframe tbody tr th {\n",
       "        vertical-align: top;\n",
       "    }\n",
       "\n",
       "    .dataframe thead th {\n",
       "        text-align: right;\n",
       "    }\n",
       "</style>\n",
       "<table border=\"1\" class=\"dataframe\">\n",
       "  <thead>\n",
       "    <tr style=\"text-align: right;\">\n",
       "      <th></th>\n",
       "      <th>year</th>\n",
       "      <th>births</th>\n",
       "      <th>deaths</th>\n",
       "      <th>clinic</th>\n",
       "      <th>death_ratio</th>\n",
       "    </tr>\n",
       "  </thead>\n",
       "  <tbody>\n",
       "    <tr>\n",
       "      <th>0</th>\n",
       "      <td>1841</td>\n",
       "      <td>3036</td>\n",
       "      <td>237</td>\n",
       "      <td>clinic 1</td>\n",
       "      <td>7.806324</td>\n",
       "    </tr>\n",
       "    <tr>\n",
       "      <th>1</th>\n",
       "      <td>1842</td>\n",
       "      <td>3287</td>\n",
       "      <td>518</td>\n",
       "      <td>clinic 1</td>\n",
       "      <td>15.759051</td>\n",
       "    </tr>\n",
       "    <tr>\n",
       "      <th>2</th>\n",
       "      <td>1843</td>\n",
       "      <td>3060</td>\n",
       "      <td>274</td>\n",
       "      <td>clinic 1</td>\n",
       "      <td>8.954248</td>\n",
       "    </tr>\n",
       "    <tr>\n",
       "      <th>3</th>\n",
       "      <td>1844</td>\n",
       "      <td>3157</td>\n",
       "      <td>260</td>\n",
       "      <td>clinic 1</td>\n",
       "      <td>8.235667</td>\n",
       "    </tr>\n",
       "    <tr>\n",
       "      <th>4</th>\n",
       "      <td>1845</td>\n",
       "      <td>3492</td>\n",
       "      <td>241</td>\n",
       "      <td>clinic 1</td>\n",
       "      <td>6.901489</td>\n",
       "    </tr>\n",
       "    <tr>\n",
       "      <th>5</th>\n",
       "      <td>1846</td>\n",
       "      <td>4010</td>\n",
       "      <td>459</td>\n",
       "      <td>clinic 1</td>\n",
       "      <td>11.446384</td>\n",
       "    </tr>\n",
       "  </tbody>\n",
       "</table>\n",
       "</div>"
      ],
      "text/plain": [
       "   year  births  deaths    clinic  death_ratio\n",
       "0  1841    3036     237  clinic 1     7.806324\n",
       "1  1842    3287     518  clinic 1    15.759051\n",
       "2  1843    3060     274  clinic 1     8.954248\n",
       "3  1844    3157     260  clinic 1     8.235667\n",
       "4  1845    3492     241  clinic 1     6.901489\n",
       "5  1846    4010     459  clinic 1    11.446384"
      ]
     },
     "execution_count": 5,
     "metadata": {},
     "output_type": "execute_result"
    }
   ],
   "source": [
    "clinic1 = yearly_df.loc[yearly_df['clinic'] == 'clinic 1']\n",
    "clinic2 = yearly_df.loc[yearly_df['clinic'] == 'clinic 2']\n",
    "\n",
    "clinic1"
   ]
  },
  {
   "cell_type": "code",
   "execution_count": 6,
   "id": "c9775ec7-48ed-4529-9e55-2c2d7681a32f",
   "metadata": {
    "tags": []
   },
   "outputs": [
    {
     "data": {
      "text/html": [
       "<div>\n",
       "<style scoped>\n",
       "    .dataframe tbody tr th:only-of-type {\n",
       "        vertical-align: middle;\n",
       "    }\n",
       "\n",
       "    .dataframe tbody tr th {\n",
       "        vertical-align: top;\n",
       "    }\n",
       "\n",
       "    .dataframe thead th {\n",
       "        text-align: right;\n",
       "    }\n",
       "</style>\n",
       "<table border=\"1\" class=\"dataframe\">\n",
       "  <thead>\n",
       "    <tr style=\"text-align: right;\">\n",
       "      <th></th>\n",
       "      <th>year</th>\n",
       "      <th>births</th>\n",
       "      <th>deaths</th>\n",
       "      <th>clinic</th>\n",
       "      <th>death_ratio</th>\n",
       "    </tr>\n",
       "  </thead>\n",
       "  <tbody>\n",
       "    <tr>\n",
       "      <th>6</th>\n",
       "      <td>1841</td>\n",
       "      <td>2442</td>\n",
       "      <td>86</td>\n",
       "      <td>clinic 2</td>\n",
       "      <td>3.521704</td>\n",
       "    </tr>\n",
       "    <tr>\n",
       "      <th>7</th>\n",
       "      <td>1842</td>\n",
       "      <td>2659</td>\n",
       "      <td>202</td>\n",
       "      <td>clinic 2</td>\n",
       "      <td>7.596841</td>\n",
       "    </tr>\n",
       "    <tr>\n",
       "      <th>8</th>\n",
       "      <td>1843</td>\n",
       "      <td>2739</td>\n",
       "      <td>164</td>\n",
       "      <td>clinic 2</td>\n",
       "      <td>5.987587</td>\n",
       "    </tr>\n",
       "    <tr>\n",
       "      <th>9</th>\n",
       "      <td>1844</td>\n",
       "      <td>2956</td>\n",
       "      <td>68</td>\n",
       "      <td>clinic 2</td>\n",
       "      <td>2.300406</td>\n",
       "    </tr>\n",
       "    <tr>\n",
       "      <th>10</th>\n",
       "      <td>1845</td>\n",
       "      <td>3241</td>\n",
       "      <td>66</td>\n",
       "      <td>clinic 2</td>\n",
       "      <td>2.036409</td>\n",
       "    </tr>\n",
       "    <tr>\n",
       "      <th>11</th>\n",
       "      <td>1846</td>\n",
       "      <td>3754</td>\n",
       "      <td>105</td>\n",
       "      <td>clinic 2</td>\n",
       "      <td>2.797017</td>\n",
       "    </tr>\n",
       "  </tbody>\n",
       "</table>\n",
       "</div>"
      ],
      "text/plain": [
       "    year  births  deaths    clinic  death_ratio\n",
       "6   1841    2442      86  clinic 2     3.521704\n",
       "7   1842    2659     202  clinic 2     7.596841\n",
       "8   1843    2739     164  clinic 2     5.987587\n",
       "9   1844    2956      68  clinic 2     2.300406\n",
       "10  1845    3241      66  clinic 2     2.036409\n",
       "11  1846    3754     105  clinic 2     2.797017"
      ]
     },
     "execution_count": 6,
     "metadata": {},
     "output_type": "execute_result"
    }
   ],
   "source": [
    "clinic2\n",
    "#It seems that clinic 2 has a death ratio far smaller than clinic 1"
   ]
  },
  {
   "cell_type": "markdown",
   "id": "f18b2462-67db-4402-aa19-e8b1191ea81a",
   "metadata": {
    "tags": []
   },
   "source": [
    "**Plotting the proportion of deaths at both Clinic 1 and Clinic 2 :**"
   ]
  },
  {
   "cell_type": "code",
   "execution_count": 7,
   "id": "eaa9f241-c059-4f1c-ae47-cd8d37fd9d1b",
   "metadata": {},
   "outputs": [
    {
     "data": {
      "image/png": "[encoded data removed]",
      "text/plain": [
       "<Figure size 640x480 with 1 Axes>"
      ]
     },
     "metadata": {},
     "output_type": "display_data"
    }
   ],
   "source": [
    "c1_death_ratio_plot = clinic1.plot.bar(\n",
    "    x='year',\n",
    "    y='death_ratio',\n",
    "    label = 'clinic 1 death over birth ratio',\n",
    "    xlabel = 'years',\n",
    "    ylabel = 'death ratio')\n",
    "c2_death_ratio_plot = clinic2.plot.bar(\n",
    "    x = 'year',\n",
    "    y= 'death_ratio',\n",
    "    label = 'clinic 2 death over birth ratio',\n",
    "    color = 'red',\n",
    "    ax = c1_death_ratio_plot)"
   ]
  },
  {
   "cell_type": "markdown",
   "id": "f45a8243-74c7-4709-b091-5182ddf9c867",
   "metadata": {},
   "source": [
    "## Monthly insight"
   ]
  },
  {
   "cell_type": "code",
   "execution_count": 8,
   "id": "3936263a-5523-4be4-bfc0-cae962216bdd",
   "metadata": {
    "tags": []
   },
   "outputs": [
    {
     "data": {
      "text/plain": [
       "date      datetime64[ns]\n",
       "births             int64\n",
       "deaths             int64\n",
       "dtype: object"
      ]
     },
     "execution_count": 8,
     "metadata": {},
     "output_type": "execute_result"
    }
   ],
   "source": [
    "monthly_df = pd.read_csv('RawData/monthly_deaths.csv', parse_dates = ['date'])\n",
    "monthly_df.dtypes"
   ]
  },
  {
   "cell_type": "code",
   "execution_count": 9,
   "id": "3c0c6c2a-3476-4f45-9a02-320bba1577dc",
   "metadata": {
    "tags": []
   },
   "outputs": [],
   "source": [
    "monthly_df['death_ratio'] = (monthly_df['deaths']/monthly_df['births'])*100"
   ]
  },
  {
   "cell_type": "code",
   "execution_count": 10,
   "id": "7547c1ca-ddcb-4be0-9637-0f4e9cddb812",
   "metadata": {
    "tags": []
   },
   "outputs": [
    {
     "data": {
      "text/html": [
       "<div>\n",
       "<style scoped>\n",
       "    .dataframe tbody tr th:only-of-type {\n",
       "        vertical-align: middle;\n",
       "    }\n",
       "\n",
       "    .dataframe tbody tr th {\n",
       "        vertical-align: top;\n",
       "    }\n",
       "\n",
       "    .dataframe thead th {\n",
       "        text-align: right;\n",
       "    }\n",
       "</style>\n",
       "<table border=\"1\" class=\"dataframe\">\n",
       "  <thead>\n",
       "    <tr style=\"text-align: right;\">\n",
       "      <th></th>\n",
       "      <th>date</th>\n",
       "      <th>births</th>\n",
       "      <th>deaths</th>\n",
       "      <th>death_ratio</th>\n",
       "    </tr>\n",
       "  </thead>\n",
       "  <tbody>\n",
       "    <tr>\n",
       "      <th>0</th>\n",
       "      <td>1841-01-01</td>\n",
       "      <td>254</td>\n",
       "      <td>37</td>\n",
       "      <td>14.566929</td>\n",
       "    </tr>\n",
       "    <tr>\n",
       "      <th>1</th>\n",
       "      <td>1841-02-01</td>\n",
       "      <td>239</td>\n",
       "      <td>18</td>\n",
       "      <td>7.531381</td>\n",
       "    </tr>\n",
       "    <tr>\n",
       "      <th>2</th>\n",
       "      <td>1841-03-01</td>\n",
       "      <td>277</td>\n",
       "      <td>12</td>\n",
       "      <td>4.332130</td>\n",
       "    </tr>\n",
       "    <tr>\n",
       "      <th>3</th>\n",
       "      <td>1841-04-01</td>\n",
       "      <td>255</td>\n",
       "      <td>4</td>\n",
       "      <td>1.568627</td>\n",
       "    </tr>\n",
       "    <tr>\n",
       "      <th>4</th>\n",
       "      <td>1841-05-01</td>\n",
       "      <td>255</td>\n",
       "      <td>2</td>\n",
       "      <td>0.784314</td>\n",
       "    </tr>\n",
       "  </tbody>\n",
       "</table>\n",
       "</div>"
      ],
      "text/plain": [
       "        date  births  deaths  death_ratio\n",
       "0 1841-01-01     254      37    14.566929\n",
       "1 1841-02-01     239      18     7.531381\n",
       "2 1841-03-01     277      12     4.332130\n",
       "3 1841-04-01     255       4     1.568627\n",
       "4 1841-05-01     255       2     0.784314"
      ]
     },
     "execution_count": 10,
     "metadata": {},
     "output_type": "execute_result"
    }
   ],
   "source": [
    "monthly_df.head()"
   ]
  },
  {
   "cell_type": "code",
   "execution_count": 11,
   "id": "c25ff924-5baf-430f-9baa-abab604f047b",
   "metadata": {
    "tags": []
   },
   "outputs": [
    {
     "data": {
      "text/plain": [
       "<Axes: xlabel='dates', ylabel='death ratio'>"
      ]
     },
     "execution_count": 11,
     "metadata": {},
     "output_type": "execute_result"
    },
    {
     "data": {
      "image/png": "[encoded data removed]",
      "text/plain": [
       "<Figure size 640x480 with 1 Axes>"
      ]
     },
     "metadata": {},
     "output_type": "display_data"
    }
   ],
   "source": [
    "monthly_df.plot(\n",
    "    x = 'date',\n",
    "    y = 'death_ratio',\n",
    "    xlim=(monthly_df['date'].min(), monthly_df['date'].max()),\n",
    "    label = 'death over birth ratio',\n",
    "    xlabel = 'dates',\n",
    "    ylabel = 'death ratio')"
   ]
  },
  {
   "cell_type": "markdown",
   "id": "f702f647-9f63-48b5-a388-7877e1aa85de",
   "metadata": {
    "tags": []
   },
   "source": [
    "## Analyzing effect of handwashing by comparing before and after it started (1847-06-01)\n"
   ]
  },
  {
   "cell_type": "code",
   "execution_count": 12,
   "id": "9e7222aa-2fcc-4fa1-a3dd-6ae95d1ceb77",
   "metadata": {},
   "outputs": [],
   "source": [
    "handwashing_start = pd.to_datetime('1847-06-01')"
   ]
  },
  {
   "cell_type": "code",
   "execution_count": 20,
   "id": "b3d1048f-1ad9-469b-97a6-cf5b2cac310b",
   "metadata": {},
   "outputs": [],
   "source": [
    "df_before_washing = monthly_df[monthly_df.date < '1847-06-01']\n",
    "df_after_washing = monthly_df[monthly_df.date >= '1847-06-01']"
   ]
  },
  {
   "cell_type": "code",
   "execution_count": 47,
   "id": "da840b40-02d2-4ee2-a809-4b642a512cbc",
   "metadata": {
    "tags": []
   },
   "outputs": [
    {
     "data": {
      "image/png": "[encoded data removed]",
      "text/plain": [
       "<Figure size 640x480 with 1 Axes>"
      ]
     },
     "metadata": {},
     "output_type": "display_data"
    }
   ],
   "source": [
    "df_before_washing_plot = df_before_washing.plot(\n",
    "    x = 'date',\n",
    "    y = 'death_ratio',\n",
    "    xlabel = 'date',\n",
    "    ylabel = 'death ratio',\n",
    "    label = \"death ratio before handwashing started\")\n",
    "df_after_washing_plot = df_after_washing.plot(\n",
    "    x = 'date',\n",
    "    y = 'death_ratio',\n",
    "    ax= df_before_washing_plot,\n",
    "    label = \"death ratio after handwashing started\")"
   ]
  },
  {
   "cell_type": "code",
   "execution_count": 50,
   "id": "8f17be33-6bb0-4966-804f-44f6dd046612",
   "metadata": {
    "tags": []
   },
   "outputs": [
    {
     "data": {
      "text/plain": [
       "-8.395660751183334"
      ]
     },
     "execution_count": 50,
     "metadata": {},
     "output_type": "execute_result"
    }
   ],
   "source": [
    "death_proportion_before = df_before_washing['death_ratio'].mean()\n",
    "death_proportion_after = df_after_washing['death_ratio'].mean()\n",
    "mean_diff = death_proportion_after - death_proportion_before\n",
    "mean_diff"
   ]
  },
  {
   "cell_type": "markdown",
   "id": "d3ddfd0c-3cf2-4b7e-b38e-704701455796",
   "metadata": {
    "tags": []
   },
   "source": [
    "**The ratio of deaths over births was lowered by 8.39% thanks to handwashing on this given period.**"
   ]
  }
 ],
 "metadata": {
  "kernelspec": {
   "display_name": "Python 3 (ipykernel)",
   "language": "python",
   "name": "python3"
  },
  "language_info": {
   "codemirror_mode": {
    "name": "ipython",
    "version": 3
   },
   "file_extension": ".py",
   "mimetype": "text/x-python",
   "name": "python",
   "nbconvert_exporter": "python",
   "pygments_lexer": "ipython3",
   "version": "3.11.5"
  }
 },
 "nbformat": 4,
 "nbformat_minor": 5
}
